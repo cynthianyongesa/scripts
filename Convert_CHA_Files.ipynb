{
 "cells": [
  {
   "cell_type": "code",
   "execution_count": 7,
   "id": "d1cd659c",
   "metadata": {},
   "outputs": [],
   "source": [
    "import os\n",
    "import re"
   ]
  },
  {
   "cell_type": "code",
   "execution_count": 25,
   "id": "aa8cb0fe",
   "metadata": {},
   "outputs": [],
   "source": [
    "#Defining functions to create an output folder,extract header from CHA file, itirate through files\n",
    "def create_output_folder(output_folder): \n",
    "    if not os.path.exists(output_folder): \n",
    "        os.makedirs(output_folder)\n",
    "        \n",
    "def process_cha(cha_file_path, output_folder):\n",
    "    # Step 1: Read the content of the CHA file\n",
    "    with open(cha_file_path, \"r\", encoding=\"utf-8\") as cha_file:\n",
    "        cha_content = cha_file.read()\n",
    "\n",
    "    # Step 2: Extract header information from the CHA content\n",
    "    max_words = 0\n",
    "    header_info = None\n",
    "\n",
    "    for line in cha_content.split('\\n'):\n",
    "        if line.startswith('@ID:'):\n",
    "            fields = line.split('|')\n",
    "            total_words = len([word for word in fields if word.isalnum() or word.isalpha()])\n",
    "            \n",
    "            if total_words > max_words:\n",
    "                max_words = total_words\n",
    "                header_info = fields\n",
    "\n",
    "    \n",
    "    # Step 3: Define the participant ID without the .cha extension & create the output file\n",
    "    participant_id = os.path.splitext(os.path.basename(cha_file_path))[0]\n",
    "    txt_file_path = os.path.join(output_folder, f\"{participant_id}.txt\")\n",
    "\n",
    "    with open(txt_file_path, \"w\", encoding=\"utf-8\") as txt_file:\n",
    "        txt_file.write(\n",
    "            f\"Participant's ID: {participant_id}\\n\"\n",
    "            f\"Age: {header_info[3]}\\n\"\n",
    "            f\"Sex: {header_info[4]}\\n\"\n",
    "            f\"Diagnosis: {header_info[5]}\\n\"\n",
    "            f\"Moca: {header_info[8]}\\n\\n\"\n",
    "            )\n",
    "\n",
    "        # Step 4: Separate inv and par lines\n",
    "        speaker = \"\"\n",
    "        all_lines = []\n",
    "\n",
    "        for line in cha_content.split('\\n'):\n",
    "            if line.startswith('*INV:'):\n",
    "                speaker = \"INV\"\n",
    "                line = line[len('*INV:'):]\n",
    "            elif line.startswith(\"*PAR:\"):\n",
    "                speaker = \"PAR\"\n",
    "                line = line[len('*PAR:'):]\n",
    "            elif line.startswith(\"@G:\"):\n",
    "                speaker = \"TASK\"\n",
    "                line = line[len('@G:'):]\n",
    "            else:\n",
    "                continue\n",
    "\n",
    "            # Clean the text in the line\n",
    "            line = re.sub(r'[0-9#%*\\[\\]&<>_]', '', line)\n",
    "\n",
    "            all_lines.append((speaker, line))\n",
    "\n",
    "        for speaker, line in all_lines:\n",
    "            txt_file.write(f\"{speaker}:{line}\\n\")\n",
    "\n",
    "    print(f\"Done processing {os.path.basename(cha_file_path)}, saved to {os.path.basename(txt_file_path)}\")\n",
    "\n",
    "def process_all_cha_files(input_folder, output_folder): \n",
    "    \n",
    "    cha_files = [file for file in os.listdir(input_folder) if file.endswith('.cha')]\n",
    "    \n",
    "    for i in cha_files: \n",
    "        cha_file_path = os.path.join(input_folder, i)\n",
    "        create_output_folder(output_folder)\n",
    "        \n",
    "        process_cha(cha_file_path, output_folder)\n",
    "    \n",
    "    print(f\"FINISHED CLEANING ALL CHA FILES IN {os.path.basename(input_folder)} \")"
   ]
  },
  {
   "cell_type": "code",
   "execution_count": 27,
   "id": "696b7ca9",
   "metadata": {},
   "outputs": [
    {
     "name": "stdout",
     "output_type": "stream",
     "text": [
      "Done processing Baycrest10285.cha, saved to Baycrest10285.txt\n",
      "Done processing Baycrest13188.cha, saved to Baycrest13188.txt\n",
      "Done processing Baycrest11014.cha, saved to Baycrest11014.txt\n",
      "Done processing Baycrest12828.cha, saved to Baycrest12828.txt\n",
      "Done processing Baycrest13074.cha, saved to Baycrest13074.txt\n",
      "Done processing Baycrest12829.cha, saved to Baycrest12829.txt\n",
      "Done processing Baycrest12756.cha, saved to Baycrest12756.txt\n",
      "Done processing Baycrest13196.cha, saved to Baycrest13196.txt\n",
      "Done processing Baycrest13156.cha, saved to Baycrest13156.txt\n",
      "Done processing Baycrest13187.cha, saved to Baycrest13187.txt\n",
      "FINISHED CLEANING ALL CHA FILES IN Baycrest_PPA \n"
     ]
    }
   ],
   "source": [
    "corpus = 'Baycrest_PPA'\n",
    "\n",
    "input_folder = os.path.join(os.getcwd(),f\"Corpus/{corpus}\")\n",
    "output_folder = os.path.join(os.getcwd(),f\"Corpus_TXT/{corpus}\")\n",
    "\n",
    "# Process all CHA files\n",
    "process_all_cha_files(input_folder, output_folder)"
   ]
  }
 ],
 "metadata": {
  "kernelspec": {
   "display_name": "Python 3 (ipykernel)",
   "language": "python",
   "name": "python3"
  },
  "language_info": {
   "codemirror_mode": {
    "name": "ipython",
    "version": 3
   },
   "file_extension": ".py",
   "mimetype": "text/x-python",
   "name": "python",
   "nbconvert_exporter": "python",
   "pygments_lexer": "ipython3",
   "version": "3.11.5"
  }
 },
 "nbformat": 4,
 "nbformat_minor": 5
}
